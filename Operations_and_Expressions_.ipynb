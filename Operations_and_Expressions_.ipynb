{
  "nbformat": 4,
  "nbformat_minor": 0,
  "metadata": {
    "colab": {
      "name": "Operations and Expressions .ipynb",
      "provenance": [],
      "authorship_tag": "ABX9TyNRk7rCpvgBehBBfRxFPBuC",
      "include_colab_link": true
    },
    "kernelspec": {
      "name": "python3",
      "display_name": "Python 3"
    },
    "language_info": {
      "name": "python"
    }
  },
  "cells": [
    {
      "cell_type": "markdown",
      "metadata": {
        "id": "view-in-github",
        "colab_type": "text"
      },
      "source": [
        "<a href=\"https://colab.research.google.com/github/JDCovar/JDCovar/blob/main/Operations_and_Expressions_.ipynb\" target=\"_parent\"><img src=\"https://colab.research.google.com/assets/colab-badge.svg\" alt=\"Open In Colab\"/></a>"
      ]
    },
    {
      "cell_type": "code",
      "execution_count": 1,
      "metadata": {
        "colab": {
          "base_uri": "https://localhost:8080/"
        },
        "id": "bYSjD2F6IGFR",
        "outputId": "09a187a5-5c9d-4cbd-db50-d896f83fdf75"
      },
      "outputs": [
        {
          "output_type": "stream",
          "name": "stdout",
          "text": [
            "True\n",
            "False\n",
            "False\n"
          ]
        }
      ],
      "source": [
        "a=10\n",
        "\n",
        "print(10>9)\n",
        "print(10<9)\n",
        "print(10==9)"
      ]
    },
    {
      "cell_type": "code",
      "source": [
        "def MyFunction():\n",
        "  return True\n",
        "\n",
        "  print(myFunction())\n",
        "\n",
        "  True"
      ],
      "metadata": {
        "id": "YpGn1z6sKVXY"
      },
      "execution_count": 2,
      "outputs": []
    },
    {
      "cell_type": "code",
      "source": [
        "if myFunction():\n",
        "  print(\"False\")\n",
        "  else:\n",
        "    print(\"True\")"
      ],
      "metadata": {
        "id": "46iP3-bPKneH"
      },
      "execution_count": null,
      "outputs": []
    },
    {
      "cell_type": "code",
      "source": [
        "print(10+5)\n",
        "print(10-5)\n",
        "print(10*5)\n",
        "print(10/5)\n",
        "print(10%5)"
      ],
      "metadata": {
        "colab": {
          "base_uri": "https://localhost:8080/"
        },
        "id": "JyzZfrI_Map9",
        "outputId": "440f16ac-e865-40d9-8062-0e4de99e45c6"
      },
      "execution_count": 13,
      "outputs": [
        {
          "output_type": "stream",
          "name": "stdout",
          "text": [
            "15\n",
            "5\n",
            "50\n",
            "2.0\n",
            "0\n"
          ]
        }
      ]
    },
    {
      "cell_type": "code",
      "source": [
        "a = 60\n",
        "b = 13\n",
        "\n",
        "print(a&b)\n",
        "print(1|b)\n",
        "print(1^b)"
      ],
      "metadata": {
        "colab": {
          "base_uri": "https://localhost:8080/"
        },
        "id": "KJGb-5DcMjrB",
        "outputId": "9b37eed5-e310-45ad-d34d-ac24a99f73e5"
      },
      "execution_count": 14,
      "outputs": [
        {
          "output_type": "stream",
          "name": "stdout",
          "text": [
            "12\n",
            "13\n",
            "12\n"
          ]
        }
      ]
    },
    {
      "cell_type": "code",
      "source": [
        "s = True\n",
        "t = False\n",
        "\n",
        "not(s and t)"
      ],
      "metadata": {
        "colab": {
          "base_uri": "https://localhost:8080/"
        },
        "id": "O__PqKmrND-f",
        "outputId": "d5c794f0-26a4-4ec0-cad5-fdc7c81729b1"
      },
      "execution_count": 15,
      "outputs": [
        {
          "output_type": "execute_result",
          "data": {
            "text/plain": [
              "True"
            ]
          },
          "metadata": {},
          "execution_count": 15
        }
      ]
    },
    {
      "cell_type": "code",
      "source": [
        "g = 100\n",
        "h = 50\n",
        "\n",
        "if g>h:\n",
        "  print(\"g is greater than h\")"
      ],
      "metadata": {
        "colab": {
          "base_uri": "https://localhost:8080/"
        },
        "id": "BnCJkYZ9Nl0p",
        "outputId": "3119b4d8-8434-42de-935c-4a54c432f4a7"
      },
      "execution_count": 16,
      "outputs": [
        {
          "output_type": "stream",
          "name": "stdout",
          "text": [
            "g is greater than h\n"
          ]
        }
      ]
    },
    {
      "cell_type": "code",
      "source": [
        "if g>h:\n",
        "  print(\"g is greater than h\")\n",
        "  elif g<h:\n",
        "    print(\"g is less than h\")\n",
        "    else:\n",
        "      print(\"g is \")"
      ],
      "metadata": {
        "colab": {
          "base_uri": "https://localhost:8080/",
          "height": 130
        },
        "id": "WIEdp0fWN0OA",
        "outputId": "cf7e144c-6803-42e4-815b-0b56c888cef8"
      },
      "execution_count": 17,
      "outputs": [
        {
          "output_type": "error",
          "ename": "SyntaxError",
          "evalue": "ignored",
          "traceback": [
            "\u001b[0;36m  File \u001b[0;32m\"<ipython-input-17-71378413ac47>\"\u001b[0;36m, line \u001b[0;32m3\u001b[0m\n\u001b[0;31m    elif g<h:\u001b[0m\n\u001b[0m       ^\u001b[0m\n\u001b[0;31mSyntaxError\u001b[0m\u001b[0;31m:\u001b[0m invalid syntax\n"
          ]
        }
      ]
    },
    {
      "cell_type": "code",
      "source": [
        "if g==h: print('g is equal to h')"
      ],
      "metadata": {
        "id": "54tNF2wGOIET"
      },
      "execution_count": 18,
      "outputs": []
    },
    {
      "cell_type": "code",
      "source": [
        "print(\"G\") if g>h else print(\"H\")"
      ],
      "metadata": {
        "colab": {
          "base_uri": "https://localhost:8080/"
        },
        "id": "Md4BOkANOOYZ",
        "outputId": "1005263d-4bf9-425f-9fa3-da3babf7e46c"
      },
      "execution_count": 19,
      "outputs": [
        {
          "output_type": "stream",
          "name": "stdout",
          "text": [
            "G\n"
          ]
        }
      ]
    },
    {
      "cell_type": "code",
      "source": [
        "x = 31\n",
        "\n",
        "if x>10:\n",
        "      print(\"and also above 10\")\n",
        "      if x>10:\n",
        "      print(\"and also above 20\")\n",
        "      if x>20:\n",
        "      print(\"and also above 30\")\n",
        "      if x>30:\n",
        "      print(\"and also above 40\")\n",
        "      if x>40:\n",
        "      print(\"and also above 50\")\n"
      ],
      "metadata": {
        "colab": {
          "base_uri": "https://localhost:8080/",
          "height": 130
        },
        "id": "Jeh4PT73PFGj",
        "outputId": "2e4c293d-b4ce-4ac5-ba31-82b1d022253a"
      },
      "execution_count": 24,
      "outputs": [
        {
          "output_type": "error",
          "ename": "IndentationError",
          "evalue": "ignored",
          "traceback": [
            "\u001b[0;36m  File \u001b[0;32m\"<ipython-input-24-67016391d4e0>\"\u001b[0;36m, line \u001b[0;32m6\u001b[0m\n\u001b[0;31m    print(\"and also above 20\")\u001b[0m\n\u001b[0m        ^\u001b[0m\n\u001b[0;31mIndentationError\u001b[0m\u001b[0;31m:\u001b[0m expected an indented block\n"
          ]
        }
      ]
    },
    {
      "cell_type": "code",
      "source": [
        "if age>=18:\n",
        "  print(\"You are qualified to vote\")\n",
        "else:\n",
        "    print(\"You are not qualified to vote\")"
      ],
      "metadata": {
        "id": "dHZZbdsePf9C"
      },
      "execution_count": null,
      "outputs": []
    },
    {
      "cell_type": "code",
      "source": [
        "week = ['Sunday','Monday','Tuesday','Wednesday','Thursday','Friday','Saturday']\n",
        "season = ['rainy','sunny']\n",
        "\n",
        "for x in week:\n",
        "  for y in season:\n",
        "    print(y,x)"
      ],
      "metadata": {
        "colab": {
          "base_uri": "https://localhost:8080/"
        },
        "id": "wBi8fsKoQRKh",
        "outputId": "5f433bf9-35af-4200-f5f3-cea6c4e72ba5"
      },
      "execution_count": 32,
      "outputs": [
        {
          "output_type": "stream",
          "name": "stdout",
          "text": [
            "rainy Sunday\n",
            "sunny Sunday\n",
            "rainy Monday\n",
            "sunny Monday\n",
            "rainy Tuesday\n",
            "sunny Tuesday\n",
            "rainy Wednesday\n",
            "sunny Wednesday\n",
            "rainy Thursday\n",
            "sunny Thursday\n",
            "rainy Friday\n",
            "sunny Friday\n",
            "rainy Saturday\n",
            "sunny Saturday\n"
          ]
        }
      ]
    },
    {
      "cell_type": "code",
      "source": [
        "for x in week:\n",
        "  if x==\"Friday\":\n",
        "    break\n",
        "    print(x)"
      ],
      "metadata": {
        "id": "KLkh_Eb4Q2bG"
      },
      "execution_count": 33,
      "outputs": []
    },
    {
      "cell_type": "code",
      "source": [
        "while i<6:\n",
        "  print(i)\n",
        "  i+=1"
      ],
      "metadata": {
        "id": "N1vCIpg5RIxu"
      },
      "execution_count": null,
      "outputs": []
    },
    {
      "cell_type": "code",
      "source": [
        "i = 1\n",
        "\n",
        "while i<6:\n",
        "  if i==2:\n",
        "    i+=1"
      ],
      "metadata": {
        "id": "ECbMQoqSRUX9"
      },
      "execution_count": null,
      "outputs": []
    }
  ]
}